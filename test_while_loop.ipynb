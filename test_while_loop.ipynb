{
 "cells": [
  {
   "cell_type": "code",
   "execution_count": 1,
   "metadata": {
    "collapsed": true
   },
   "outputs": [],
   "source": [
    "import tensorflow as tf"
   ]
  },
  {
   "cell_type": "code",
   "execution_count": 2,
   "metadata": {},
   "outputs": [
    {
     "name": "stdout",
     "output_type": "stream",
     "text": [
      "[5, 5, 5, 5, 5, 5, 5, 5, 5, 5]\n",
      "Tensor(\"triplets:0\", shape=(6, 1), dtype=int32)\n"
     ]
    }
   ],
   "source": [
    "a = tf.Variable(0)\n",
    "b = tf.Variable(1)\n",
    "pair = tf.Variable(b)\n",
    "people_per_batch = tf.constant(10)\n",
    "a_idx = tf.Variable(0, dtype=tf.int32)\n",
    "p_idx = tf.Variable(0, dtype=tf.int32)\n",
    "_nrof_images_per_class = [5 for i in xrange(10)]\n",
    "print(_nrof_images_per_class)\n",
    "nrof_images_per_class = tf.constant(_nrof_images_per_class)\n",
    "emb_start_idx = tf.Variable(0)\n",
    "triplets = tf.constant([-1,-1,-1,-1,-1,-1], shape=[6,1], name='triplets')\n",
    "print(triplets)\n",
    "\n",
    "def update_i():\n",
    "    return tf.cond(a.assign_add(1) < people_per_batch, lambda:b.assign(1), lambda:b.assign(1))\n",
    "\n",
    "def update_b_and_pair():\n",
    "    return tf.cond((b+1) < nrof_images_per_class[a], lambda: b.assign_add(1), update_i)\n",
    "\n",
    "def condition(a, b, pair, emb_start_idx, a_idx, p_idx, triplets):\n",
    "    r = tf.less(a, people_per_batch-1)\n",
    "    return r \n",
    "\n",
    "def body(a, b, pair, emb_start_idx, a_idx, p_idx, triplets):\n",
    "    \n",
    "    a_idx = tf.add(emb_start_idx, tf.subtract(b,1))#\n",
    "    p_idx = tf.add(emb_start_idx, pair)\n",
    "    triplet = tf.stack([a, b, pair, emb_start_idx, a_idx, p_idx], name='triplet')\n",
    "    triplet = tf.reshape(triplet, shape=(6,1))\n",
    "    triplets = tf.concat([triplets, triplet], axis=1)\n",
    "    \n",
    "    #triplet = tf.stack([a_idx, p_idx], name='triplet')\n",
    "    #triplet = tf.reshape(triplet, shape=(2,1))\n",
    "    #triplets = tf.concat([triplets, triplet], axis=1)\n",
    "    #emb_start_idx = tf.cond( (b+1) < nrof_images_per_class[a], \n",
    "                            #lambda: emb_start_idx, lambda: tf.add(emb_start_idx ,nrof_images_per_class[a]))\n",
    "    pair = tf.cond((pair+1) < nrof_images_per_class[a], lambda: pair+1, update_b_and_pair)\n",
    "    \n",
    "    return a, b, pair, emb_start_idx, a_idx, p_idx, triplets\n",
    "\n",
    "[a, b, pair, emb_start_idx, a_idx, p_idx, triplets] = tf.while_loop(condition, body, \n",
    "                                                      loop_vars=[a, b, pair, emb_start_idx, a_idx, p_idx, triplets],\n",
    "                                                     shape_invariants=[a.shape, b.shape, \n",
    "                                                                       pair.shape, emb_start_idx.shape,\n",
    "                                                                       a_idx.shape, p_idx.shape,\n",
    "                                                                      tf.TensorShape([6,None])])"
   ]
  },
  {
   "cell_type": "code",
   "execution_count": 3,
   "metadata": {},
   "outputs": [],
   "source": [
    "sess = tf.InteractiveSession()\n",
    "init = tf.global_variables_initializer()\n",
    "sess.run(init)"
   ]
  },
  {
   "cell_type": "code",
   "execution_count": 4,
   "metadata": {},
   "outputs": [
    {
     "name": "stdout",
     "output_type": "stream",
     "text": [
      "[[-1 -1 -1 -1 -1 -1]\n",
      " [ 0  1  1  0  0  1]\n",
      " [ 0  1  2  0  0  2]\n",
      " [ 0  1  3  0  0  3]\n",
      " [ 0  1  4  0  0  4]\n",
      " [ 0  2  2  0  0  2]\n",
      " [ 0  2  3  0  1  3]\n",
      " [ 0  2  4  0  1  4]\n",
      " [ 0  3  3  0  1  3]\n",
      " [ 0  3  4  0  1  4]\n",
      " [ 0  4  4  0  2  4]\n",
      " [ 1  1  1  0  2  1]\n",
      " [ 1  1  2  0  2  2]\n",
      " [ 1  1  3  0  3  3]\n",
      " [ 1  1  4  0  3  4]\n",
      " [ 1  2  2  0  0  2]\n",
      " [ 1  2  3  0  0  3]\n",
      " [ 1  2  4  0  0  4]\n",
      " [ 1  3  3  0  0  3]\n",
      " [ 1  3  4  0  0  4]\n",
      " [ 1  4  4  0  1  4]\n",
      " [ 2  1  1  0  1  1]\n",
      " [ 2  1  2  0  1  2]\n",
      " [ 2  1  3  0  2  3]\n",
      " [ 2  1  4  0  2  4]\n",
      " [ 2  2  2  0  2  2]\n",
      " [ 2  2  3  0  3  3]\n",
      " [ 2  2  4  0  3  4]\n",
      " [ 2  3  3  0  3  3]\n",
      " [ 2  3  4  0  0  4]\n",
      " [ 2  4  4  0  0  4]\n",
      " [ 3  1  1  0  0  1]\n",
      " [ 3  1  2  0  0  2]\n",
      " [ 3  1  3  0  1  3]\n",
      " [ 3  1  4  0  1  4]\n",
      " [ 3  2  2  0  1  2]\n",
      " [ 3  2  3  0  2  3]\n",
      " [ 3  2  4  0  2  4]\n",
      " [ 3  3  3  0  3  3]\n",
      " [ 3  3  4  0  3  4]\n",
      " [ 3  4  4  0  0  4]\n",
      " [ 4  1  1  0  0  1]\n",
      " [ 4  1  2  0  0  2]\n",
      " [ 4  1  3  0  1  3]\n",
      " [ 4  1  4  0  1  4]\n",
      " [ 4  2  2  0  1  2]\n",
      " [ 4  2  3  0  2  3]\n",
      " [ 4  2  4  0  2  4]\n",
      " [ 4  3  3  0  3  3]\n",
      " [ 4  3  4  0  3  4]\n",
      " [ 4  4  4  0  0  4]\n",
      " [ 5  1  1  0  0  1]\n",
      " [ 5  1  2  0  0  2]\n",
      " [ 5  1  3  0  1  3]\n",
      " [ 5  1  4  0  1  4]\n",
      " [ 5  2  2  0  1  2]\n",
      " [ 5  2  3  0  2  3]\n",
      " [ 5  2  4  0  2  4]\n",
      " [ 5  3  3  0  3  3]\n",
      " [ 5  3  4  0  3  4]\n",
      " [ 5  4  4  0  0  4]\n",
      " [ 6  1  1  0  0  1]\n",
      " [ 6  1  2  0  0  2]\n",
      " [ 6  1  3  0  1  3]\n",
      " [ 6  1  4  0  1  4]\n",
      " [ 6  2  2  0  1  2]\n",
      " [ 6  2  3  0  2  3]\n",
      " [ 6  2  4  0  2  4]\n",
      " [ 6  3  3  0  3  3]\n",
      " [ 6  3  4  0  3  4]\n",
      " [ 6  4  4  0  0  4]\n",
      " [ 7  1  1  0  0  1]\n",
      " [ 7  1  2  0  0  2]\n",
      " [ 7  1  3  0  1  3]\n",
      " [ 7  1  4  0  1  4]\n",
      " [ 7  2  2  0  1  2]\n",
      " [ 7  2  3  0  2  3]\n",
      " [ 7  2  4  0  2  4]\n",
      " [ 7  3  3  0  3  3]\n",
      " [ 7  3  4  0  3  4]\n",
      " [ 7  4  4  0  0  4]\n",
      " [ 8  1  1  0  0  1]\n",
      " [ 8  1  2  0  0  2]\n",
      " [ 8  1  3  0  1  3]\n",
      " [ 8  1  4  0  1  4]\n",
      " [ 8  2  2  0  1  2]\n",
      " [ 8  2  3  0  2  3]\n",
      " [ 8  2  4  0  2  4]\n",
      " [ 8  3  3  0  3  3]\n",
      " [ 8  3  4  0  3  4]\n",
      " [ 8  4  4  0  0  4]\n",
      " [ 9  1  1  0  0  1]\n",
      " [ 9  1  2  0  0  2]\n",
      " [ 9  1  3  0  1  3]\n",
      " [ 9  1  4  0  1  4]\n",
      " [ 9  2  2  0  1  2]\n",
      " [ 9  2  3  0  2  3]\n",
      " [ 9  2  4  0  2  4]\n",
      " [ 9  3  3  0  3  3]\n",
      " [ 9  3  4  0  3  4]]\n"
     ]
    }
   ],
   "source": [
    "triplets = sess.run(triplets)\n",
    "print(triplets.T)"
   ]
  },
  {
   "cell_type": "code",
   "execution_count": null,
   "metadata": {
    "collapsed": true
   },
   "outputs": [],
   "source": []
  }
 ],
 "metadata": {
  "kernelspec": {
   "display_name": "Python 2",
   "language": "python",
   "name": "python2"
  },
  "language_info": {
   "codemirror_mode": {
    "name": "ipython",
    "version": 2
   },
   "file_extension": ".py",
   "mimetype": "text/x-python",
   "name": "python",
   "nbconvert_exporter": "python",
   "pygments_lexer": "ipython2",
   "version": "2.7.10"
  }
 },
 "nbformat": 4,
 "nbformat_minor": 2
}
