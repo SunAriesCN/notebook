{
 "cells": [
  {
   "cell_type": "code",
   "execution_count": 1,
   "metadata": {
    "collapsed": true
   },
   "outputs": [],
   "source": [
    "import tensorflow as tf\n",
    "import time"
   ]
  },
  {
   "cell_type": "code",
   "execution_count": 2,
   "metadata": {},
   "outputs": [],
   "source": [
    "people_per_batch = tf.constant(6000)\n",
    "_nrof_images_per_class = [5 for i in xrange(6000)]\n",
    "nrof_images_per_class = tf.constant(_nrof_images_per_class)\n",
    "emb_start_idx = tf.Variable(0)\n",
    "triplets = tf.constant([-1,-1,-1,-1,-1,-1], shape=[6,1], name='triplets')\n",
    "pair = tf.Variable(1)\n",
    "a = tf.constant(0)\n",
    "def cond_a(a, emb_start_idx, triplets):\n",
    "    r = tf.less(a, people_per_batch)\n",
    "    return r \n",
    "\n",
    "def body_a(a, emb_start_idx, triplets):\n",
    "    b = tf.constant(1)\n",
    "    def cond_b(a,b,emb_start_idx,triplets):\n",
    "        return tf.less(b, nrof_images_per_class[a])\n",
    "    \n",
    "    def body_b(a, b, emb_start_idx, triplets):       \n",
    "        pair = b\n",
    "        def cond_pair(a, b, pair, emb_start_idx, triplets):\n",
    "            return tf.less(pair, nrof_images_per_class[a])\n",
    "        \n",
    "        def body_pair(a, b, pair, emb_start_idx, triplets):\n",
    "            a_idx = tf.add(emb_start_idx, tf.subtract(b,1))\n",
    "            p_idx = tf.add(emb_start_idx, pair)\n",
    "            \n",
    "            ####\n",
    "            \n",
    "            triplet = tf.stack([a, b, pair, emb_start_idx, a_idx, p_idx], name='triplet')\n",
    "            triplet = tf.reshape(triplet, shape=(6,1))\n",
    "            triplets = tf.concat([triplets, triplet], axis=1)\n",
    "            return a, b, pair+1, emb_start_idx, triplets\n",
    "        \n",
    "        a, b, pair, emb_start_idx, triplets = tf.while_loop(cond_pair, body_pair, \n",
    "                                                             loop_vars=[a, b, pair, emb_start_idx, triplets],\n",
    "                                                             shape_invariants=[a.shape, \n",
    "                                                                               b.shape, \n",
    "                                                                               pair.shape, \n",
    "                                                                               emb_start_idx.shape, \n",
    "                                                                               tf.TensorShape([6,None])])\n",
    "        return a, b+1, emb_start_idx, triplets\n",
    "\n",
    "    a, b, emb_start_idx, triplets = tf.while_loop(cond_b, body_b, loop_vars=[a, b, emb_start_idx, triplets],\n",
    "                                                shape_invariants=[a.shape, b.shape, emb_start_idx.shape,\n",
    "                                                                  tf.TensorShape([6,None])])\n",
    "    \n",
    "    return a+1, emb_start_idx + nrof_images_per_class[a], triplets\n",
    "\n",
    "a, emb_start_idx, triplets = tf.while_loop(cond_a, body_a, loop_vars=[a, emb_start_idx, triplets],\n",
    "                                           shape_invariants =[a.shape, emb_start_idx.shape, tf.TensorShape([6,None])])\n"
   ]
  },
  {
   "cell_type": "code",
   "execution_count": 3,
   "metadata": {
    "collapsed": true
   },
   "outputs": [],
   "source": [
    "sess = tf.InteractiveSession()\n",
    "init = tf.global_variables_initializer()\n",
    "sess.run(init)"
   ]
  },
  {
   "cell_type": "code",
   "execution_count": 4,
   "metadata": {},
   "outputs": [
    {
     "name": "stdout",
     "output_type": "stream",
     "text": [
      "[[   -1    -1    -1    -1    -1    -1]\n",
      " [    0     1     1     0     0     1]\n",
      " [    0     1     2     0     0     2]\n",
      " ..., \n",
      " [ 5999     3     3 29995 29997 29998]\n",
      " [ 5999     3     4 29995 29997 29999]\n",
      " [ 5999     4     4 29995 29998 29999]]\n",
      "run time: 13s\n"
     ]
    }
   ],
   "source": [
    "start_time = time.time()\n",
    "triplets = sess.run(triplets)\n",
    "end_time = time.time()\n",
    "print(triplets.T)\n",
    "print('run time: %ds' %(end_time-start_time))"
   ]
  },
  {
   "cell_type": "code",
   "execution_count": null,
   "metadata": {
    "collapsed": true
   },
   "outputs": [],
   "source": []
  }
 ],
 "metadata": {
  "kernelspec": {
   "display_name": "Python 2",
   "language": "python",
   "name": "python2"
  },
  "language_info": {
   "codemirror_mode": {
    "name": "ipython",
    "version": 2
   },
   "file_extension": ".py",
   "mimetype": "text/x-python",
   "name": "python",
   "nbconvert_exporter": "python",
   "pygments_lexer": "ipython2",
   "version": "2.7.10"
  }
 },
 "nbformat": 4,
 "nbformat_minor": 2
}
